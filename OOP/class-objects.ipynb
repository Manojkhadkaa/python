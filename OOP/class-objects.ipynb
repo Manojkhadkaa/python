{
 "cells": [
  {
   "cell_type": "markdown",
   "metadata": {},
   "source": [
    "# Class and Objects\n",
    "# Class is a user defined data type/structure \n",
    "# Class contains data members and member functions\n",
    "# Data members are variables that are part of the class, also called as attributes\n",
    "# Member functions are functions that are part of the class, also called as methods\n",
    "\n",
    "# Objects are instances of a class\n",
    "# Objects can access the data members and member functions of a class\n",
    "\n",
    "# A Single Class can have multiple objects/instances\n",
    "# All the objects of a class share the same data members and member functions\n",
    "# But the objects have different states i.e different values of data members\n",
    "\n",
    "# self is a reference variable that refers to the current instance of the class\n",
    "# class methods must have self as the first argument\n",
    "\n",
    "\n",
    "\"\"\"\n",
    "class syntax:\n",
    "class ClassName:\n",
    "    <statement-1> variables, functions\n",
    "    .variable  => data members / attributes\n",
    "    function() => member functions / methods\n",
    "    .\n",
    "    .\n",
    "    <statement-N>\n",
    "object creation:\n",
    "object_name = ClassName()"
   ]
  },
  {
   "cell_type": "code",
   "execution_count": 7,
   "metadata": {},
   "outputs": [
    {
     "name": "stdout",
     "output_type": "stream",
     "text": [
      "Hello, I am a Tesla!\n",
      "Hello, I am a Audi!\n",
      "Hello, I am a Ferrari!\n"
     ]
    }
   ],
   "source": [
    "class Car:\n",
    "    # data members/attributes:\n",
    "    a = 'Lamborghini'\n",
    "    b = 'Ferrari'\n",
    "    c = 'Audi'\n",
    "    # members functions/methods:\n",
    "    def lamborghini(self):    #self = obj1\n",
    "        #a1 = 'randomcar'\n",
    "        print(f'Hello, I am a {self.a}!')  #obj1.a\n",
    "    def ferrari(self):\n",
    "        print(f'Hello, I am a {self.b}!')\n",
    "    def audi(self):\n",
    "        print(f'Hello, I am a {self.c}!')\n",
    "    def tesla(self):\n",
    "        print(f'Hello, I am a Tesla!')\n",
    "    \n",
    "        \n",
    "\n",
    "obj1 = Car()  #object creation or instance creation\n",
    "obj2 = Car()\n",
    "obj1.tesla()    \n",
    "obj1.audi()\n",
    "obj2.ferrari()"
   ]
  }
 ],
 "metadata": {
  "interpreter": {
   "hash": "81586a0c7c59ed0c486f310ce0e22c547f5bec5bc9cd335b2d05525692011c96"
  },
  "kernelspec": {
   "display_name": "Python 3.9.7 64-bit ('base': conda)",
   "language": "python",
   "name": "python3"
  },
  "language_info": {
   "codemirror_mode": {
    "name": "ipython",
    "version": 3
   },
   "file_extension": ".py",
   "mimetype": "text/x-python",
   "name": "python",
   "nbconvert_exporter": "python",
   "pygments_lexer": "ipython3",
   "version": "3.9.7"
  },
  "orig_nbformat": 4
 },
 "nbformat": 4,
 "nbformat_minor": 2
}
