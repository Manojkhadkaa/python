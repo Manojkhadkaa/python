{
 "cells": [
  {
   "cell_type": "markdown",
   "metadata": {},
   "source": [
    "# Constructor, __init__, Class Variables, Instance Variables, __str__\n",
    "# Construcor is a special method that is called when an object is created.\n",
    "# It is used to initialize the state of the object.\n",
    "\n",
    "# Class variable is a variable that is shared by all the objects of a class.\n",
    "# Class variable is accessible by all the objects of the class.\n",
    "# Class variable is not a part of the object.\n",
    "# Class variable is also known as static variable.\n",
    "\n",
    "# Instance variables are variables whose value is assigned inside a constructor or method with self\n",
    "# Instance variables are accessible by all the objects of the class.\n",
    "# Instance variable is a part of the object.\n",
    "# Instance variable is not shared by all the objects of the class.\n",
    "\n",
    "#__str__ is a special method that is called when an object is converted to a string.\n",
    "# It is used to return a string representation of the object."
   ]
  },
  {
   "cell_type": "code",
   "execution_count": 1,
   "metadata": {},
   "outputs": [
    {
     "name": "stdout",
     "output_type": "stream",
     "text": [
      "Audi\n"
     ]
    }
   ],
   "source": [
    "class Car:\n",
    "\n",
    "\t# default constructor\n",
    "\tdef __init__(self):\n",
    "\t\tself.audi = \"Audi\"\n",
    "\n",
    "\t# a method for printing data members\n",
    "\tdef print_car(self):\n",
    "\t\tprint(self.audi)\n",
    "\n",
    "\n",
    "# creating object of the class\n",
    "obj = Car()\n",
    "\n",
    "# calling the instance method using the object obj\n",
    "obj.print_car()\n"
   ]
  },
  {
   "cell_type": "code",
   "execution_count": 6,
   "metadata": {},
   "outputs": [
    {
     "name": "stdout",
     "output_type": "stream",
     "text": [
      "First number =  6000\n",
      "Second number =  4000\n",
      "Addition of two numbers =  10000\n"
     ]
    }
   ],
   "source": [
    "class Addition:\n",
    "\tfirst = 0\n",
    "\tsecond = 0\n",
    "\tanswer = 0\n",
    "\t\n",
    "\t# parameterized constructor\n",
    "\tdef __init__(self, f, s):\n",
    "\t\tself.first = f\n",
    "\t\tself.second = s\n",
    "\t\n",
    "\tdef display(self):\n",
    "\t\tprint(\"First number = \", self.first)\n",
    "\t\tprint(\"Second number = \", self.second)\n",
    "\t\tprint(\"Addition of two numbers = \", self.answer)\n",
    "\n",
    "\tdef calculate(self):\n",
    "\t\tself.answer = self.first + self.second\n",
    "\n",
    "# creating object of the class\n",
    "obj = Addition(6000, 4000)\n",
    "\n",
    "# perform Addition\n",
    "obj.calculate()\n",
    "\n",
    "# display result\n",
    "obj.display()\n"
   ]
  }
 ],
 "metadata": {
  "interpreter": {
   "hash": "81586a0c7c59ed0c486f310ce0e22c547f5bec5bc9cd335b2d05525692011c96"
  },
  "kernelspec": {
   "display_name": "Python 3.9.7 64-bit ('base': conda)",
   "language": "python",
   "name": "python3"
  },
  "language_info": {
   "codemirror_mode": {
    "name": "ipython",
    "version": 3
   },
   "file_extension": ".py",
   "mimetype": "text/x-python",
   "name": "python",
   "nbconvert_exporter": "python",
   "pygments_lexer": "ipython3",
   "version": "3.9.7"
  },
  "orig_nbformat": 4
 },
 "nbformat": 4,
 "nbformat_minor": 2
}
