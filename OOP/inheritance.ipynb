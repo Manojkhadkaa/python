{
 "cells": [
  {
   "cell_type": "markdown",
   "metadata": {},
   "source": [
    "# Inheritance\n",
    "# Inheritance is a way to create new classes based on existing classes.\n",
    "# It is a way to reuse code.\n",
    "# Iheritance is the capability of one class to derive or inherit the properties(data members/attributes/variables and methods) from another class\n",
    "\n",
    "# Parent class => Base class or Super class\n",
    "# Child class => Sub class or Sub class"
   ]
  },
  {
   "cell_type": "code",
   "execution_count": 10,
   "metadata": {},
   "outputs": [
    {
     "name": "stdout",
     "output_type": "stream",
     "text": [
      "Leo is working\n",
      "Sam is working\n"
     ]
    }
   ],
   "source": [
    "#Simple inheritance concept\n",
    "class Employee:\n",
    "    def __init__(self,name,age):\n",
    "        self.name=name\n",
    "        self.age=age\n",
    "    def work(self):\n",
    "        print(f\"{self.name} is working\")\n",
    "\n",
    "class SoftwareEngineer(Employee):\n",
    "    pass\n",
    "\n",
    "class Designer(Employee):\n",
    "    pass\n",
    "\n",
    "se=Employee(\"Leo\",25)\n",
    "se.work()\n",
    "de=Employee(\"Sam\",30)\n",
    "de.work()"
   ]
  },
  {
   "cell_type": "code",
   "execution_count": 25,
   "metadata": {},
   "outputs": [
    {
     "name": "stdout",
     "output_type": "stream",
     "text": [
      "Leo is working....\n",
      "S/W Developer\n",
      "Leo is developing....\n",
      "John is working....\n",
      "John is drawing.....\n"
     ]
    }
   ],
   "source": [
    "#Extending above code\n",
    "class Employee:\n",
    "    def __init__(self,name,age,salary):\n",
    "        self.name=name\n",
    "        self.age=age\n",
    "        self.salary=salary\n",
    "    def work(self):\n",
    "        print(f\"{self.name} is working....\")\n",
    "\n",
    "class SoftwareEngineer(Employee):\n",
    "    def __init__(self,name,age,salary,level):\n",
    "        super(). __init__(name,age,salary) #or Employee. __init__(name,age,salary)\n",
    "        self.level=level\n",
    "    def develop(self):\n",
    "        print(f\"{self.name} is developing....\")\n",
    "        \n",
    "        \n",
    "class Designer(Employee):\n",
    "    def draw(self):\n",
    "        print(f\"{self.name} is drawing.....\")\n",
    "se=SoftwareEngineer(\"Leo\",25,50000,\"S/W Developer\")\n",
    "se.work()\n",
    "print(se.level)\n",
    "se.develop()\n",
    "de=Designer(\"John\",30,30000)\n",
    "de.work()\n",
    "de.draw()\n",
    "#de.develop() Designer class method dont belong to SoftwareEngineer method"
   ]
  },
  {
   "cell_type": "markdown",
   "metadata": {},
   "source": [
    "# Inheritance : Constructor Overriding\n",
    "# Constructor of the parent class is available in the child class.\n",
    "# But if we write constructor in both classes, parent and child class then parent class constructor is not available to the child class.\n",
    "#in this case only child class constructor is accessible which means child class constructor is replacing parent class constructor\n",
    "\n",
    "# Calling Constructor of the parent class in the child class is called constructor overriding.\n",
    "# Constructor with super() => super() is a function that is used to call the constructor of the parent class."
   ]
  },
  {
   "cell_type": "code",
   "execution_count": 26,
   "metadata": {},
   "outputs": [
    {
     "name": "stdout",
     "output_type": "stream",
     "text": [
      "Leo is Coding....\n",
      "John is Designing....\n"
     ]
    }
   ],
   "source": [
    "class Employee:\n",
    "    def __init__(self,name,age,salary):\n",
    "        self.name=name\n",
    "        self.age=age\n",
    "        self.salary=salary\n",
    "    def work(self):\n",
    "        print(f\"{self.name} is working....\")\n",
    "\n",
    "class SoftwareEngineer(Employee):\n",
    "    def __init__(self,name,age,salary,level):\n",
    "        super(). __init__(name,age,salary) #or Employee. __init__(name,age,salary)\n",
    "        self.level=level\n",
    "\n",
    "    def work(self): #Overriding the parent class method\n",
    "        print(f\"{self.name} is Coding....\")\n",
    "\n",
    "    def develop(self):\n",
    "        print(f\"{self.name} is developing....\")\n",
    "        \n",
    "        \n",
    "class Designer(Employee):\n",
    "    def work(self):#Overriding the parent class method\n",
    "        print(f\"{self.name} is Designing....\")\n",
    "\n",
    "    def draw(self):\n",
    "        print(f\"{self.name} is drawing.....\")\n",
    "se=SoftwareEngineer(\"Leo\",25,50000,\"S/W Developer\")\n",
    "se.work()\n",
    "de=Designer(\"John\",30,30000)\n",
    "de.work()"
   ]
  }
 ],
 "metadata": {
  "interpreter": {
   "hash": "81586a0c7c59ed0c486f310ce0e22c547f5bec5bc9cd335b2d05525692011c96"
  },
  "kernelspec": {
   "display_name": "Python 3.9.7 64-bit ('base': conda)",
   "language": "python",
   "name": "python3"
  },
  "language_info": {
   "codemirror_mode": {
    "name": "ipython",
    "version": 3
   },
   "file_extension": ".py",
   "mimetype": "text/x-python",
   "name": "python",
   "nbconvert_exporter": "python",
   "pygments_lexer": "ipython3",
   "version": "3.9.7"
  },
  "orig_nbformat": 4
 },
 "nbformat": 4,
 "nbformat_minor": 2
}
