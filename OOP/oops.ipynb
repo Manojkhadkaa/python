{
 "cells": [
  {
   "cell_type": "code",
   "execution_count": 8,
   "metadata": {},
   "outputs": [
    {
     "name": "stdout",
     "output_type": "stream",
     "text": [
      "Hello\n"
     ]
    }
   ],
   "source": [
    "def hello():\n",
    "    print(\"Hello\")\n",
    "r=hello()"
   ]
  },
  {
   "cell_type": "code",
   "execution_count": 6,
   "metadata": {},
   "outputs": [
    {
     "name": "stdout",
     "output_type": "stream",
     "text": [
      "Leo, cannot code..\n"
     ]
    }
   ],
   "source": [
    "class students:\n",
    "    def __init__(self,name,branch,languages,year,subjects):\n",
    "        #instance attributes\n",
    "        self.name=name\n",
    "        self.branch=branch\n",
    "        self.languages=languages\n",
    "        self.year=year\n",
    "        self.subjects=subjects\n",
    "#instance methods\n",
    "    def code(self):\n",
    "        if self.branch == 'CSE' :\n",
    "            def language (self,language):\n",
    "                print(f\"{self.name} can code....\")\n",
    "                print(f\"{self.name} can code in {language}..\")\n",
    "        else:\n",
    "            print(f\"{self.name}, cannot code..\")\n",
    "    #def code_in_language(self,language):\n",
    "       # print(f\"{self.name} can code in {language}..\")\n",
    "    def information(self):\n",
    "        information=f\"name={self.name},branch={self.branch},languages={self.languages},year={self.year},subjects={self.subjects}\"\n",
    "        return information\n",
    "s1=students(\"Manoj\",\"CSE\",\"Python\",\"Third\",\"Data Structure\")\n",
    "s2=students(\"Leo\",\"Civil\",\"None\",\"Second\",\"Thermo Dynamics\")\n",
    "s1.code()\n",
    "#s1.language(\"Python\")\n",
    "s2.code()"
   ]
  }
 ],
 "metadata": {
  "interpreter": {
   "hash": "81586a0c7c59ed0c486f310ce0e22c547f5bec5bc9cd335b2d05525692011c96"
  },
  "kernelspec": {
   "display_name": "Python 3.9.7 64-bit ('base': conda)",
   "language": "python",
   "name": "python3"
  },
  "language_info": {
   "codemirror_mode": {
    "name": "ipython",
    "version": 3
   },
   "file_extension": ".py",
   "mimetype": "text/x-python",
   "name": "python",
   "nbconvert_exporter": "python",
   "pygments_lexer": "ipython3",
   "version": "3.9.7"
  },
  "orig_nbformat": 4
 },
 "nbformat": 4,
 "nbformat_minor": 2
}
