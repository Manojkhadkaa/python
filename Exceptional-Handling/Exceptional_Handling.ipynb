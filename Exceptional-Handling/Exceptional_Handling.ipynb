{
 "cells": [
  {
   "cell_type": "markdown",
   "metadata": {},
   "source": [
    "                        \"Exceptional-Hndling\"\n",
    "Exceptions are raised when the program is syntactically correct, but the code resulted in an error. This error does not stop the execution of the program, however, it changes the normal flow of the program."
   ]
  },
  {
   "cell_type": "code",
   "execution_count": 1,
   "metadata": {},
   "outputs": [
    {
     "ename": "ZeroDivisionError",
     "evalue": "division by zero",
     "output_type": "error",
     "traceback": [
      "\u001b[1;31m---------------------------------------------------------------------------\u001b[0m",
      "\u001b[1;31mZeroDivisionError\u001b[0m                         Traceback (most recent call last)",
      "\u001b[1;32m~\\AppData\\Local\\Temp/ipykernel_9900/1750052594.py\u001b[0m in \u001b[0;36m<module>\u001b[1;34m\u001b[0m\n\u001b[0;32m      1\u001b[0m \u001b[0ma\u001b[0m\u001b[1;33m=\u001b[0m\u001b[1;36m50\u001b[0m\u001b[1;33m\u001b[0m\u001b[1;33m\u001b[0m\u001b[0m\n\u001b[0;32m      2\u001b[0m \u001b[0mb\u001b[0m\u001b[1;33m=\u001b[0m\u001b[1;36m0\u001b[0m\u001b[1;33m\u001b[0m\u001b[1;33m\u001b[0m\u001b[0m\n\u001b[1;32m----> 3\u001b[1;33m \u001b[0mprint\u001b[0m\u001b[1;33m(\u001b[0m\u001b[0ma\u001b[0m\u001b[1;33m/\u001b[0m\u001b[0mb\u001b[0m\u001b[1;33m)\u001b[0m\u001b[1;33m\u001b[0m\u001b[1;33m\u001b[0m\u001b[0m\n\u001b[0m",
      "\u001b[1;31mZeroDivisionError\u001b[0m: division by zero"
     ]
    }
   ],
   "source": [
    "a=50\n",
    "b=0\n",
    "print(a/b)\n"
   ]
  },
  {
   "cell_type": "code",
   "execution_count": 2,
   "metadata": {},
   "outputs": [
    {
     "name": "stdout",
     "output_type": "stream",
     "text": [
      "ZeroDivisionError\n",
      "Out of try except block\n"
     ]
    }
   ],
   "source": [
    "a=50\n",
    "b=0\n",
    "try:\n",
    "    print(a/b)\n",
    "except:\n",
    "    print(\"ZeroDivisionError\")\n",
    "\n",
    "print(\"Out of try except block\")"
   ]
  },
  {
   "cell_type": "code",
   "execution_count": 3,
   "metadata": {},
   "outputs": [
    {
     "name": "stdout",
     "output_type": "stream",
     "text": [
      "Unsupported operator\n",
      "Out of try except block\n"
     ]
    }
   ],
   "source": [
    "a=100\n",
    "b=\"abcd\"\n",
    "try:\n",
    "    print(a+b)\n",
    "except TypeError:\n",
    "    print(\"Unsupported operator\")\n",
    "\n",
    "print(\"Out of try except block\")"
   ]
  },
  {
   "cell_type": "code",
   "execution_count": 4,
   "metadata": {},
   "outputs": [
    {
     "name": "stdout",
     "output_type": "stream",
     "text": [
      "Zero Division error\n"
     ]
    }
   ],
   "source": [
    "a=100\n",
    "b=0\n",
    "try:\n",
    "    print(a/b)\n",
    "except TypeError:\n",
    "    print(\"Unsupported Operator\")\n",
    "\n",
    "except ZeroDivisionError:\n",
    "    print(\"Zero Division error\")\n",
    "    \n"
   ]
  },
  {
   "cell_type": "markdown",
   "metadata": {},
   "source": [
    "try:\n",
    "    #statements in try block\n",
    "except:\n",
    "    #executed when error in try block\n",
    "else:\n",
    "    #executed if try block is error-free\n",
    "finally:\n",
    "    #executed irrespective of exception occured or not"
   ]
  },
  {
   "cell_type": "code",
   "execution_count": 9,
   "metadata": {},
   "outputs": [
    {
     "name": "stdout",
     "output_type": "stream",
     "text": [
      "Try block\n",
      "Please enter non zero number\n",
      "First Number: 5\n",
      "Second number 0\n",
      "Result 5.0\n"
     ]
    }
   ],
   "source": [
    "a=int(input(\"Enter the first number\"))\n",
    "b=int(input(\"Enter the second number\"))\n",
    "try:\n",
    "    print(\"Try block\")\n",
    "    c=a/b\n",
    "\n",
    "except ZeroDivisionError:\n",
    "    print(\"Please enter non zero number\")\n",
    "else:\n",
    "    print(\"Else block:\")\n",
    "    print(\"Division\",c)\n",
    "finally:\n",
    "    print(\"First Number:\",a)\n",
    "    print(\"Second number\",b)\n",
    "    print(\"Result\",c)"
   ]
  },
  {
   "cell_type": "code",
   "execution_count": 14,
   "metadata": {},
   "outputs": [
    {
     "name": "stdout",
     "output_type": "stream",
     "text": [
      "5 is Within range\n"
     ]
    }
   ],
   "source": [
    "#Raise an exception\n",
    "a=int(input(\"Enter the number:\"))\n",
    "try:\n",
    "    if a>100:\n",
    "        raise ValueError(a)\n",
    "\n",
    "except ValueError:\n",
    "    print(f\"{a} is out of range\")\n",
    "else:\n",
    "    print(f\"{a} is Within range\")"
   ]
  }
 ],
 "metadata": {
  "interpreter": {
   "hash": "81586a0c7c59ed0c486f310ce0e22c547f5bec5bc9cd335b2d05525692011c96"
  },
  "kernelspec": {
   "display_name": "Python 3.9.7 64-bit ('base': conda)",
   "language": "python",
   "name": "python3"
  },
  "language_info": {
   "codemirror_mode": {
    "name": "ipython",
    "version": 3
   },
   "file_extension": ".py",
   "mimetype": "text/x-python",
   "name": "python",
   "nbconvert_exporter": "python",
   "pygments_lexer": "ipython3",
   "version": "3.9.7"
  },
  "orig_nbformat": 4
 },
 "nbformat": 4,
 "nbformat_minor": 2
}
