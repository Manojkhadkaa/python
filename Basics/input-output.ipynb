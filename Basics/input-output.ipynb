{
 "cells": [
  {
   "cell_type": "markdown",
   "metadata": {},
   "source": [
    "                            \"Input and output\""
   ]
  },
  {
   "cell_type": "code",
   "execution_count": 2,
   "metadata": {},
   "outputs": [
    {
     "name": "stdout",
     "output_type": "stream",
     "text": [
      "manoj\n",
      "Hello  manoj\n"
     ]
    }
   ],
   "source": [
    "#Getting input from the user\n",
    "#We use input()function to take the input from user\n",
    "name=input(\"Enter your message:\")\n",
    "print(name)\n",
    "#Output formatting\n",
    "print(\"Hello  \" +name)"
   ]
  },
  {
   "cell_type": "code",
   "execution_count": 4,
   "metadata": {},
   "outputs": [
    {
     "name": "stdout",
     "output_type": "stream",
     "text": [
      "First number: 5\n",
      "Second number: 20\n",
      "25\n"
     ]
    }
   ],
   "source": [
    "#Taking integer as an input from user\n",
    "number1=int(input(\"Please enter the number:\"))\n",
    "number2=int(input(\"Please enter the number:\"))\n",
    "print(\"First number:\",number1)\n",
    "print(\"Second number:\",number2)\n",
    "add=number1 + number2\n",
    "print(add)"
   ]
  },
  {
   "cell_type": "code",
   "execution_count": 16,
   "metadata": {},
   "outputs": [
    {
     "name": "stdout",
     "output_type": "stream",
     "text": [
      "1%\n",
      "2%\n",
      "3%\n",
      "4%\n",
      "5%\n",
      "Python::Django\n"
     ]
    }
   ],
   "source": [
    "#Python Print output with custom sep and end parameter\n",
    "numbers=(1,2,3,4,5)\n",
    "for i in numbers:\n",
    "    print(i,end=\"%\")\n",
    "    print()\n",
    "print(\"Python\",\"Django\",sep=\"::\")"
   ]
  },
  {
   "cell_type": "markdown",
   "metadata": {},
   "source": [
    "                    \"Formatting Output\"\n",
    "format() => string.format()\n",
    "f-strings => string interpolation"
   ]
  },
  {
   "cell_type": "code",
   "execution_count": 19,
   "metadata": {},
   "outputs": [
    {
     "name": "stdout",
     "output_type": "stream",
     "text": [
      "Mr john is 50 year old\n",
      "john age is: 50\n"
     ]
    }
   ],
   "source": [
    "name=\"john\"\n",
    "age=50\n",
    "print(\"Mr {} is {} year old\" .format(name,age))\n",
    "print(f\"{name} age is: {age}\")"
   ]
  }
 ],
 "metadata": {
  "interpreter": {
   "hash": "81586a0c7c59ed0c486f310ce0e22c547f5bec5bc9cd335b2d05525692011c96"
  },
  "kernelspec": {
   "display_name": "Python 3.9.7 64-bit ('base': conda)",
   "language": "python",
   "name": "python3"
  },
  "language_info": {
   "codemirror_mode": {
    "name": "ipython",
    "version": 3
   },
   "file_extension": ".py",
   "mimetype": "text/x-python",
   "name": "python",
   "nbconvert_exporter": "python",
   "pygments_lexer": "ipython3",
   "version": "3.9.7"
  },
  "orig_nbformat": 4
 },
 "nbformat": 4,
 "nbformat_minor": 2
}
