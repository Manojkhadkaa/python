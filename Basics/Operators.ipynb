{
 "cells": [
  {
   "cell_type": "markdown",
   "metadata": {},
   "source": [
    "                    \"OPERATORS\""
   ]
  },
  {
   "cell_type": "markdown",
   "metadata": {},
   "source": [
    "1. Arithmetic operators(+,-,*,/,//,%,**)"
   ]
  },
  {
   "cell_type": "code",
   "execution_count": 1,
   "metadata": {},
   "outputs": [
    {
     "name": "stdout",
     "output_type": "stream",
     "text": [
      "11\n",
      "5\n",
      "24\n",
      "2.6666666666666665\n",
      "2\n",
      "2\n",
      "512\n"
     ]
    }
   ],
   "source": [
    "a=8\n",
    "b=3\n",
    "#Addition of numbers\n",
    "print(a+b)\n",
    "#Subtraction of numbers\n",
    "print(a-b)\n",
    "#Multiplication of numbers\n",
    "print(a*b)\n",
    "#Division(float) of numbers\n",
    "print(a/b)\n",
    "#Division(floor)of numbers\n",
    "print(a//b)\n",
    "#Modulo of both numbers\n",
    "print(a%b)\n",
    "#power\n",
    "print(a**b)"
   ]
  },
  {
   "cell_type": "markdown",
   "metadata": {},
   "source": [
    "2.Comparison operator(<,>,==,!=,>=,<=>)"
   ]
  },
  {
   "cell_type": "code",
   "execution_count": 3,
   "metadata": {},
   "outputs": [
    {
     "name": "stdout",
     "output_type": "stream",
     "text": [
      "True\n",
      "False\n",
      "False\n",
      "True\n",
      "True\n",
      "False\n"
     ]
    }
   ],
   "source": [
    "#Example of relational operator\n",
    "a=100\n",
    "b=50\n",
    "print(a>b) \n",
    "print(a<b)\n",
    "print(a==b)\n",
    "print(a!=b)\n",
    "print(a>=b)\n",
    "print(a<=b)\n"
   ]
  },
  {
   "cell_type": "markdown",
   "metadata": {},
   "source": [
    "3.Logical operators(and, or,not)"
   ]
  },
  {
   "cell_type": "code",
   "execution_count": 6,
   "metadata": {},
   "outputs": [
    {
     "name": "stdout",
     "output_type": "stream",
     "text": [
      "False\n",
      "True\n",
      "False\n"
     ]
    }
   ],
   "source": [
    "a=True\n",
    "b=False\n",
    "print(a and b) #returns true if both operands are true\n",
    "print(a or b) #Return true if either of the operands are true\n",
    "print(not a) #True if operands is false\n"
   ]
  },
  {
   "cell_type": "markdown",
   "metadata": {},
   "source": [
    "4.Assignment operators(=,+=,-+,/=,*=)"
   ]
  },
  {
   "cell_type": "code",
   "execution_count": 9,
   "metadata": {},
   "outputs": [
    {
     "name": "stdout",
     "output_type": "stream",
     "text": [
      "10\n",
      "15\n",
      "10\n",
      "50\n",
      "10.0\n"
     ]
    }
   ],
   "source": [
    "a=10\n",
    "#assigning value\n",
    "b=a\n",
    "#Adding and assignimg value\n",
    "print(b)\n",
    "b += 5 # b = b + 5\n",
    "print(b)\n",
    "#Subtracting and assigning value\n",
    "b -= 5\n",
    "print(b)\n",
    "#Multiplying and assigning value\n",
    "b *= 5\n",
    "print(b)\n",
    "#Divide and assign value\n",
    "b /= 5\n",
    "print(b)"
   ]
  },
  {
   "cell_type": "markdown",
   "metadata": {},
   "source": [
    "5.Identity operators(is, is not)"
   ]
  },
  {
   "cell_type": "code",
   "execution_count": 10,
   "metadata": {},
   "outputs": [
    {
     "name": "stdout",
     "output_type": "stream",
     "text": [
      "False\n",
      "True\n",
      "True\n"
     ]
    }
   ],
   "source": [
    "a=10\n",
    "b=20\n",
    "c=10\n",
    "print(a is b)\n",
    "print(a is not b)\n",
    "print(a is c)"
   ]
  },
  {
   "cell_type": "markdown",
   "metadata": {},
   "source": [
    "6.Membership operators(in,not in)"
   ]
  },
  {
   "cell_type": "code",
   "execution_count": 19,
   "metadata": {},
   "outputs": [
    {
     "name": "stdout",
     "output_type": "stream",
     "text": [
      "True\n",
      "False\n",
      "Python is present in list\n"
     ]
    }
   ],
   "source": [
    "a=\"Python\"\n",
    "print('o' in a)\n",
    "print('y' not in a)\n",
    "list=[\"Python\",\"Django\",\"HTML\",\"CSS\",4]\n",
    "if \"Python\" in a:\n",
    "    print(\"Python is present in list\")\n",
    "else:\n",
    "    print(\" not present in list\")\n"
   ]
  },
  {
   "cell_type": "markdown",
   "metadata": {},
   "source": [
    "7.Bitwise operator(&,|,~,^,>>,<<>>)"
   ]
  },
  {
   "cell_type": "code",
   "execution_count": 24,
   "metadata": {},
   "outputs": [
    {
     "name": "stdout",
     "output_type": "stream",
     "text": [
      "a and b: 0\n",
      "a or b 30\n"
     ]
    }
   ],
   "source": [
    "\n",
    "#bitwise operators work only on integers.\n",
    "a=10\n",
    "b=20\n",
    "print(\"a and b:\", a & b) #Returns 1 if both the bits are 1 else 0.\n",
    "print(\"a or b\", a | b)"
   ]
  },
  {
   "cell_type": "markdown",
   "metadata": {},
   "source": [
    "Operators precedence\n",
    "precedence order: (),**,* / %, + -,<< >>,< <= >= >,== !=, is is not in not in,not,and,or"
   ]
  },
  {
   "cell_type": "code",
   "execution_count": 31,
   "metadata": {},
   "outputs": [
    {
     "name": "stdout",
     "output_type": "stream",
     "text": [
      "110\n",
      "True\n",
      "True\n"
     ]
    }
   ],
   "source": [
    "a=10+20*5\n",
    "print(a)\n",
    "#Precedence of 'or' & 'and'\n",
    "name=\"Manoj\"\n",
    "age=24\n",
    "print(name == \"Manoj\" and age == 24)\n",
    "print(name == \"abcd\" and name == \"Manoj\" or age == 24)"
   ]
  },
  {
   "cell_type": "markdown",
   "metadata": {},
   "source": [
    "Operator Associativity"
   ]
  },
  {
   "cell_type": "code",
   "execution_count": 36,
   "metadata": {},
   "outputs": [
    {
     "name": "stdout",
     "output_type": "stream",
     "text": [
      "10.0\n",
      "256\n"
     ]
    }
   ],
   "source": [
    "print(100 / 20 + 5) #Left to right\n",
    "print(2**2**3) #right  to left"
   ]
  }
 ],
 "metadata": {
  "interpreter": {
   "hash": "81586a0c7c59ed0c486f310ce0e22c547f5bec5bc9cd335b2d05525692011c96"
  },
  "kernelspec": {
   "display_name": "Python 3.9.7 64-bit ('base': conda)",
   "language": "python",
   "name": "python3"
  },
  "language_info": {
   "codemirror_mode": {
    "name": "ipython",
    "version": 3
   },
   "file_extension": ".py",
   "mimetype": "text/x-python",
   "name": "python",
   "nbconvert_exporter": "python",
   "pygments_lexer": "ipython3",
   "version": "3.9.7"
  },
  "orig_nbformat": 4
 },
 "nbformat": 4,
 "nbformat_minor": 2
}
