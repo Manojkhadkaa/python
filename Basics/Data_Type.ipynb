{
 "cells": [
  {
   "cell_type": "markdown",
   "metadata": {},
   "source": [
    "                            \"DATATYPES\"\n",
    "                            \n",
    "Following are the standard or built-in data type of Python:\n",
    "\n",
    "Numeric (int, float, complex),\n",
    "Sequence Type (list, tuple, string)\n",
    "Boolean,\n",
    "Set,\n",
    "Dictionary"
   ]
  },
  {
   "cell_type": "markdown",
   "metadata": {},
   "source": [
    "1.Numeric data types"
   ]
  },
  {
   "cell_type": "code",
   "execution_count": 2,
   "metadata": {},
   "outputs": [
    {
     "name": "stdout",
     "output_type": "stream",
     "text": [
      "Type of a: <class 'int'>\n",
      "The type of b: <class 'float'>\n",
      "Type of c: <class 'complex'>\n"
     ]
    }
   ],
   "source": [
    "#integer\n",
    "a=10\n",
    "print(\"Type of a:\", type(a))\n",
    "#float\n",
    "b=20.2\n",
    "print(\"The type of b:\",type(b))\n",
    "c=2 + 9j\n",
    "print(\"Type of c:\", type(c))"
   ]
  },
  {
   "cell_type": "markdown",
   "metadata": {},
   "source": [
    "                            2.Sequence data type"
   ]
  },
  {
   "cell_type": "markdown",
   "metadata": {},
   "source": [
    "                            \"STRINGS\""
   ]
  },
  {
   "cell_type": "code",
   "execution_count": 5,
   "metadata": {},
   "outputs": [
    {
     "name": "stdout",
     "output_type": "stream",
     "text": [
      "Welcome\n",
      "y\n",
      "Pytho\n",
      "n\n",
      "nohtyP\n"
     ]
    }
   ],
   "source": [
    "#String\n",
    "#string is the ordered collection of character,it is immutable\n",
    "a=\"Welcome\"  #Creating the string can be possible using single quote,double quotes or triple quotes\n",
    "print(a)\n",
    "\n",
    "#Accessing elements\n",
    "# 1.Individual characters of a String can be accessed by using the method of Indexing\n",
    "#2.To access a range of characters in the String, the method of slicing is used\n",
    "course=\"Python\"\n",
    "print(course[1])\n",
    "print(course[0:5])\n",
    "print(course[-1])\n",
    "print(course[::-1])"
   ]
  },
  {
   "cell_type": "code",
   "execution_count": 7,
   "metadata": {},
   "outputs": [
    {
     "ename": "TypeError",
     "evalue": "'str' object does not support item assignment",
     "output_type": "error",
     "traceback": [
      "\u001b[1;31m---------------------------------------------------------------------------\u001b[0m",
      "\u001b[1;31mTypeError\u001b[0m                                 Traceback (most recent call last)",
      "\u001b[1;32m~\\AppData\\Local\\Temp/ipykernel_8700/1538754790.py\u001b[0m in \u001b[0;36m<module>\u001b[1;34m\u001b[0m\n\u001b[0;32m      1\u001b[0m \u001b[1;31m#Updation and deletion of character from the string is not allowed\u001b[0m\u001b[1;33m\u001b[0m\u001b[1;33m\u001b[0m\u001b[0m\n\u001b[0;32m      2\u001b[0m \u001b[0mcourse\u001b[0m\u001b[1;33m=\u001b[0m\u001b[1;34m\"Python\"\u001b[0m\u001b[1;33m\u001b[0m\u001b[1;33m\u001b[0m\u001b[0m\n\u001b[1;32m----> 3\u001b[1;33m \u001b[0mcourse\u001b[0m\u001b[1;33m[\u001b[0m\u001b[1;36m2\u001b[0m\u001b[1;33m]\u001b[0m\u001b[1;33m=\u001b[0m\u001b[1;34m\"M\"\u001b[0m\u001b[1;33m\u001b[0m\u001b[1;33m\u001b[0m\u001b[0m\n\u001b[0m\u001b[0;32m      4\u001b[0m \u001b[0mprint\u001b[0m\u001b[1;33m(\u001b[0m\u001b[0mcourse\u001b[0m\u001b[1;33m)\u001b[0m\u001b[1;33m\u001b[0m\u001b[1;33m\u001b[0m\u001b[0m\n\u001b[0;32m      5\u001b[0m \u001b[1;31m#Although deletion of the entire String is possible with the use of a built-in del keyword.\u001b[0m\u001b[1;33m\u001b[0m\u001b[1;33m\u001b[0m\u001b[0m\n",
      "\u001b[1;31mTypeError\u001b[0m: 'str' object does not support item assignment"
     ]
    }
   ],
   "source": [
    "#Updation and deletion of character from the string is not allowed\n",
    "course=\"Python\"\n",
    "course[2]=\"M\"\n",
    "print(course)\n",
    "#Although deletion of the entire String is possible with the use of a built-in del keyword.\n",
    "course1=\"Physics\"\n",
    "del course1\n",
    "print(course1)"
   ]
  },
  {
   "cell_type": "markdown",
   "metadata": {},
   "source": [
    "                            \"LISTS\""
   ]
  },
  {
   "cell_type": "code",
   "execution_count": 16,
   "metadata": {},
   "outputs": [
    {
     "name": "stdout",
     "output_type": "stream",
     "text": [
      "[1, 2, 3, 'Manoj', 'Python']\n",
      "1\n",
      "[1, 2, 3, 'Manoj']\n",
      "Python\n",
      "[1, 2, 4, 4, 3, 3, 3, 6, 5]\n",
      "9\n",
      "[0, 2, 3, 'Manoj', 'Python']\n",
      "[0, 2, 3, 'Manoj', 'Python', 'HTML']\n"
     ]
    }
   ],
   "source": [
    "#List is ordered collection of data/items/values\n",
    "#Any types of data can be inserted inside list\n",
    "#List is mutable\n",
    "list=[1,2,3,\"Manoj\",\"Python\"]\n",
    "print(list)\n",
    "print(list[0])\n",
    "print(list[0:4])\n",
    "print(list[-1])\n",
    "# list may contain duplicate values with their distinct positions\n",
    "my_list=[1, 2, 4, 4, 3, 3, 3, 6, 5]\n",
    "print(my_list)\n",
    "#Knowing the size of the list\n",
    "print(len(my_list))\n",
    "#Updating the value of list is possible\n",
    "list[0]=0\n",
    "print(list)\n",
    "#Addition of elements at the desired position, insert() method is used\n",
    "list.insert(5,\"HTML\")\n",
    "print(list)"
   ]
  },
  {
   "cell_type": "code",
   "execution_count": 1,
   "metadata": {},
   "outputs": [
    {
     "name": "stdout",
     "output_type": "stream",
     "text": [
      "[1]\n",
      "[1, 10, 20, 'Programming', 'Language']\n",
      "[1, 20, 'Programming', 'Language']\n",
      "[1, 20, 'Programming']\n",
      "[1, 'Programming']\n",
      "[]\n"
     ]
    }
   ],
   "source": [
    "#only one elements can be added to the List by using the built-in append() function\n",
    "list=[]\n",
    "list.append(1)\n",
    "print(list)\n",
    "# extend() method is used to add multiple elements at the same time at the end of the list.\n",
    "list.extend([10,20,\"Programming\",\"Language\"])\n",
    "print(list)\n",
    "#Elements can be removed from the List by using the built-in remove().Only first occurance of searched elements.\n",
    "list.remove(10)\n",
    "print(list)\n",
    "#Pop() function can also be used to remove and return an element from the list\n",
    "list.pop()  #Removes last element by default\n",
    "print(list)\n",
    "list.pop(1)\n",
    "print(list)\n",
    "#clear() Removes all items from the list\n",
    "list.clear()\n",
    "print(list)\n"
   ]
  },
  {
   "cell_type": "markdown",
   "metadata": {},
   "source": [
    "                                \"TUPLES\""
   ]
  },
  {
   "cell_type": "code",
   "execution_count": 4,
   "metadata": {},
   "outputs": [
    {
     "name": "stdout",
     "output_type": "stream",
     "text": [
      "(1, 2, 'Django', 'Python')\n",
      "2\n",
      "Python\n",
      "(1, 2, 'Django', 'Python')\n",
      "<class 'tuple'>\n",
      "('P', 'y', 't', 'h', 'o', 'n', ' ', 'd', 'a', 't', 'a', 't', 'y', 'p', 'e')\n"
     ]
    },
    {
     "ename": "TypeError",
     "evalue": "'tuple' object does not support item assignment",
     "output_type": "error",
     "traceback": [
      "\u001b[1;31m---------------------------------------------------------------------------\u001b[0m",
      "\u001b[1;31mTypeError\u001b[0m                                 Traceback (most recent call last)",
      "\u001b[1;32m~\\AppData\\Local\\Temp/ipykernel_1116/1275646535.py\u001b[0m in \u001b[0;36m<module>\u001b[1;34m\u001b[0m\n\u001b[0;32m      9\u001b[0m \u001b[0mtuple1\u001b[0m\u001b[1;33m=\u001b[0m\u001b[0mtuple\u001b[0m\u001b[1;33m(\u001b[0m\u001b[1;34m\"Python datatype\"\u001b[0m\u001b[1;33m)\u001b[0m\u001b[1;33m\u001b[0m\u001b[1;33m\u001b[0m\u001b[0m\n\u001b[0;32m     10\u001b[0m \u001b[0mprint\u001b[0m\u001b[1;33m(\u001b[0m\u001b[0mtuple1\u001b[0m\u001b[1;33m)\u001b[0m\u001b[1;33m\u001b[0m\u001b[1;33m\u001b[0m\u001b[0m\n\u001b[1;32m---> 11\u001b[1;33m \u001b[0mtuple1\u001b[0m\u001b[1;33m[\u001b[0m\u001b[1;36m0\u001b[0m\u001b[1;33m]\u001b[0m\u001b[1;33m=\u001b[0m\u001b[1;34m\"Hello\"\u001b[0m\u001b[1;33m\u001b[0m\u001b[1;33m\u001b[0m\u001b[0m\n\u001b[0m\u001b[0;32m     12\u001b[0m \u001b[0mprint\u001b[0m\u001b[1;33m(\u001b[0m\u001b[0mtuple1\u001b[0m\u001b[1;33m)\u001b[0m\u001b[1;33m\u001b[0m\u001b[1;33m\u001b[0m\u001b[0m\n",
      "\u001b[1;31mTypeError\u001b[0m: 'tuple' object does not support item assignment"
     ]
    }
   ],
   "source": [
    "#Tuple is a collection of data/items/values.Any types of data inside tuple\n",
    "#Tuple is immutable\n",
    "t=(1,2,\"Django\",\"Python\")  #Tuple creation\n",
    "print(t)\n",
    "print(t[1])\n",
    "print(t[-1])\n",
    "print(t[0:4])\n",
    "print(type(t))\n",
    "tuple1=tuple(\"Python datatype\")\n",
    "print(tuple1)\n",
    "tuple1[0]=\"Hello\"\n",
    "print(tuple1)"
   ]
  },
  {
   "cell_type": "code",
   "execution_count": null,
   "metadata": {},
   "outputs": [],
   "source": [
    "                    \"BOOLEAN\""
   ]
  },
  {
   "cell_type": "code",
   "execution_count": 6,
   "metadata": {},
   "outputs": [
    {
     "name": "stdout",
     "output_type": "stream",
     "text": [
      "True\n",
      "False\n",
      "<class 'bool'>\n",
      "<class 'bool'>\n"
     ]
    }
   ],
   "source": [
    "#It is one of the built-in data types, which represents one of the two values i.e. True or False.\n",
    "a=True\n",
    "b=False\n",
    "print(a)\n",
    "print(b)\n",
    "print(type(a))\n",
    "print(type(b))"
   ]
  },
  {
   "cell_type": "code",
   "execution_count": null,
   "metadata": {},
   "outputs": [],
   "source": [
    "                            \"SET\""
   ]
  },
  {
   "cell_type": "code",
   "execution_count": 12,
   "metadata": {},
   "outputs": [
    {
     "name": "stdout",
     "output_type": "stream",
     "text": [
      "{1, 2, 3, 4, 5, 6}\n",
      "1\n",
      "2\n",
      "3\n",
      "4\n",
      "5\n",
      "6\n",
      "<class 'set'>\n"
     ]
    }
   ],
   "source": [
    "#data type that is iterable, mutable and has no duplicate elements.\n",
    "my_set={1,2,3,4,5,6,5}\n",
    "print(my_set)\n",
    "for i in my_set:\n",
    "    print(i)\n",
    "\n",
    "print(type(my_set))"
   ]
  },
  {
   "cell_type": "markdown",
   "metadata": {},
   "source": [
    "                                \"Dictionary\""
   ]
  },
  {
   "cell_type": "code",
   "execution_count": 18,
   "metadata": {},
   "outputs": [
    {
     "name": "stdout",
     "output_type": "stream",
     "text": [
      "{'Python': 1, 'Django': 2, 'Programming': 3}\n",
      "<class 'dict'>\n",
      "1\n"
     ]
    }
   ],
   "source": [
    "d={'Python':1,\"Django\":2,\"Programming\":3}\n",
    "print(d)\n",
    "print(type(d))\n",
    "print(d['Python'])"
   ]
  },
  {
   "cell_type": "code",
   "execution_count": 23,
   "metadata": {},
   "outputs": [
    {
     "name": "stdout",
     "output_type": "stream",
     "text": [
      "{'name': 'leo', 'age': 25, 'marks': [90, 95, 80]}\n",
      "[90, 95, 80]\n",
      "leo\n"
     ]
    }
   ],
   "source": [
    "students={'name':\"leo\", 'age':25,'marks':[90,95,80]}\n",
    "print(students)\n",
    "print(students['marks'])\n",
    "print(students.get('name'))"
   ]
  }
 ],
 "metadata": {
  "interpreter": {
   "hash": "b4a304561b1c89c5498b8b7adafbc29d4bd72f0d5aae14fb379ac67aa6967e30"
  },
  "kernelspec": {
   "display_name": "Python 3.7.0 64-bit",
   "language": "python",
   "name": "python3"
  },
  "language_info": {
   "codemirror_mode": {
    "name": "ipython",
    "version": 3
   },
   "file_extension": ".py",
   "mimetype": "text/x-python",
   "name": "python",
   "nbconvert_exporter": "python",
   "pygments_lexer": "ipython3",
   "version": "3.9.7"
  },
  "orig_nbformat": 4
 },
 "nbformat": 4,
 "nbformat_minor": 2
}
