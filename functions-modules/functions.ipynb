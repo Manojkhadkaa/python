{
 "cells": [
  {
   "cell_type": "markdown",
   "metadata": {},
   "source": [
    "                    \"Functions and Modules\"\n",
    "#We can create a function using def() keyword"
   ]
  },
  {
   "cell_type": "markdown",
   "metadata": {},
   "source": [
    "Functions are of two types\n",
    "1.Built-in functions\n",
    "2.User defined functions"
   ]
  },
  {
   "cell_type": "code",
   "execution_count": 6,
   "metadata": {},
   "outputs": [
    {
     "name": "stdout",
     "output_type": "stream",
     "text": [
      "99\n"
     ]
    }
   ],
   "source": [
    "a=99\n",
    "print(a) #print() is a built-in  function"
   ]
  },
  {
   "cell_type": "code",
   "execution_count": 7,
   "metadata": {},
   "outputs": [
    {
     "name": "stdout",
     "output_type": "stream",
     "text": [
      "5\n"
     ]
    }
   ],
   "source": [
    "a=(1,2,3,4,5)\n",
    "print(len(a)) #len() is a bulit-in function"
   ]
  },
  {
   "cell_type": "code",
   "execution_count": 2,
   "metadata": {},
   "outputs": [
    {
     "name": "stdout",
     "output_type": "stream",
     "text": [
      "Python\n"
     ]
    }
   ],
   "source": [
    "#Creating a function\n",
    "def my_func():\n",
    "    print(\"Python\")\n",
    "my_func() #Calling a function"
   ]
  },
  {
   "cell_type": "code",
   "execution_count": 3,
   "metadata": {},
   "outputs": [
    {
     "name": "stdout",
     "output_type": "stream",
     "text": [
      "Even\n",
      "Odd\n"
     ]
    }
   ],
   "source": [
    "#Arguments of a function\n",
    "def evenOdd(x):\n",
    "    if(x % 2 == 0):\n",
    "        print(\"Even\")\n",
    "    else:\n",
    "        print(\"Odd\")\n",
    "\n",
    "evenOdd(10)\n",
    "evenOdd(7)"
   ]
  },
  {
   "cell_type": "code",
   "execution_count": 9,
   "metadata": {},
   "outputs": [
    {
     "name": "stdout",
     "output_type": "stream",
     "text": [
      "Value of x: 10\n",
      "value of y: 20\n"
     ]
    }
   ],
   "source": [
    "#Default arguments\n",
    "def my_func(x,y=20):\n",
    "    print(\"Value of x:\",x) \n",
    "    print(\"value of y:\",y)\n",
    "my_func(10)"
   ]
  },
  {
   "cell_type": "code",
   "execution_count": 14,
   "metadata": {},
   "outputs": [
    {
     "name": "stdout",
     "output_type": "stream",
     "text": [
      "Manoj Khadka\n",
      "Manoj Khadka\n"
     ]
    }
   ],
   "source": [
    "#Keyword arguments\n",
    "#Order is not important while calling\n",
    "def students(fname,lname):\n",
    "    print(fname,lname)\n",
    "\n",
    "students(fname=\"Manoj\", lname=\"Khadka\")\n",
    "students(lname=\"Khadka\", fname=\"Manoj\")"
   ]
  },
  {
   "cell_type": "markdown",
   "metadata": {},
   "source": [
    "                    \"Variable-length arguments\"\n",
    "\n",
    "we can pass a variable number of arguments to a function using special symbols. There are two special symbols:\n",
    "\n",
    "1. *args (Non-Keyword Arguments)\n",
    "2. **kwargs (Keyword Arguments)"
   ]
  },
  {
   "cell_type": "code",
   "execution_count": 19,
   "metadata": {},
   "outputs": [
    {
     "name": "stdout",
     "output_type": "stream",
     "text": [
      "Python\n",
      "Django\n",
      "HTML\n",
      "CSS\n",
      "<class 'tuple'>\n"
     ]
    }
   ],
   "source": [
    "# *args(Non-Keyword Arguments)\n",
    "# *args will be a tuple containing all values that are passed in.\n",
    "def my_func(*a):\n",
    "    for i in a:\n",
    "        print(i)\n",
    "    print(type(a))\n",
    "    \n",
    "my_func(\"Python\",\"Django\",\"HTML\",\"CSS\")"
   ]
  },
  {
   "cell_type": "code",
   "execution_count": 21,
   "metadata": {},
   "outputs": [
    {
     "name": "stdout",
     "output_type": "stream",
     "text": [
      "{'first': 'Python', 'second': 'Django', 'third': 'HTML', 'last': 'CSS'}\n",
      "<class 'dict'>\n"
     ]
    }
   ],
   "source": [
    "# **kwargs\n",
    "# **kwargs will be a dictionary containing the names as keys and the values as values\n",
    "def my_func(**a):\n",
    "    print(a)\n",
    "    print(type(a))\n",
    "my_func(first=\"Python\",second=\"Django\", third=\"HTML\", last=\"CSS\")"
   ]
  },
  {
   "cell_type": "markdown",
   "metadata": {},
   "source": [
    "                    \"Function that return\"\n",
    "                    \n",
    "The function return statement is used to exit from a function and go back to the function caller and return the specified value or data item to the caller."
   ]
  },
  {
   "cell_type": "code",
   "execution_count": 23,
   "metadata": {},
   "outputs": [
    {
     "name": "stdout",
     "output_type": "stream",
     "text": [
      "4\n",
      "9\n"
     ]
    }
   ],
   "source": [
    "def square(a):\n",
    "    return a**2\n",
    "c=square(2)\n",
    "print(c)\n",
    "print(square(3))"
   ]
  },
  {
   "cell_type": "code",
   "execution_count": 26,
   "metadata": {},
   "outputs": [
    {
     "name": "stdout",
     "output_type": "stream",
     "text": [
      "5\n",
      "2\n"
     ]
    }
   ],
   "source": [
    "#Returning an absolute value\n",
    "def absolute(num):\n",
    "    if num>0:\n",
    "        return num\n",
    "    else:\n",
    "        return -num\n",
    "    \n",
    "value=absolute(-5)\n",
    "print(value)\n",
    "print(absolute(2))"
   ]
  },
  {
   "cell_type": "markdown",
   "metadata": {},
   "source": [
    "                    \"Local and global variables\"\n",
    "                    "
   ]
  },
  {
   "cell_type": "code",
   "execution_count": 27,
   "metadata": {},
   "outputs": [
    {
     "name": "stdout",
     "output_type": "stream",
     "text": [
      "Python\n"
     ]
    }
   ],
   "source": [
    "#Local variable\n",
    "#local variables are accessible only inside the function in which it was initialized\n",
    "def local():\n",
    "    a=\"Python\"\n",
    "    print(a)\n",
    "local()\n"
   ]
  },
  {
   "cell_type": "code",
   "execution_count": 30,
   "metadata": {},
   "outputs": [
    {
     "name": "stdout",
     "output_type": "stream",
     "text": [
      "Python\n"
     ]
    },
    {
     "ename": "NameError",
     "evalue": "name 'x' is not defined",
     "output_type": "error",
     "traceback": [
      "\u001b[1;31m---------------------------------------------------------------------------\u001b[0m",
      "\u001b[1;31mNameError\u001b[0m                                 Traceback (most recent call last)",
      "\u001b[1;32m~\\AppData\\Local\\Temp/ipykernel_9724/3543576972.py\u001b[0m in \u001b[0;36m<module>\u001b[1;34m\u001b[0m\n\u001b[0;32m      4\u001b[0m     \u001b[0mprint\u001b[0m\u001b[1;33m(\u001b[0m\u001b[0mx\u001b[0m\u001b[1;33m)\u001b[0m\u001b[1;33m\u001b[0m\u001b[1;33m\u001b[0m\u001b[0m\n\u001b[0;32m      5\u001b[0m \u001b[0mlocal\u001b[0m\u001b[1;33m(\u001b[0m\u001b[1;33m)\u001b[0m\u001b[1;33m\u001b[0m\u001b[1;33m\u001b[0m\u001b[0m\n\u001b[1;32m----> 6\u001b[1;33m \u001b[0mprint\u001b[0m\u001b[1;33m(\u001b[0m\u001b[0mx\u001b[0m\u001b[1;33m)\u001b[0m\u001b[1;33m\u001b[0m\u001b[1;33m\u001b[0m\u001b[0m\n\u001b[0m",
      "\u001b[1;31mNameError\u001b[0m: name 'x' is not defined"
     ]
    }
   ],
   "source": [
    "#local variables cannot be accessed anywhere outside the function.\n",
    "def local():\n",
    "    x=\"Python\"\n",
    "    print(x)\n",
    "local()\n",
    "print(x)"
   ]
  },
  {
   "cell_type": "code",
   "execution_count": 31,
   "metadata": {},
   "outputs": [
    {
     "name": "stdout",
     "output_type": "stream",
     "text": [
      "Inside function: Python\n",
      "outside function: Python\n"
     ]
    }
   ],
   "source": [
    "#Global variable\n",
    "#The global variables are those which are defined outside any function and which are accessible throughout the program\n",
    "def f():\n",
    "    print(\"Inside function:\",s )\n",
    "s=\"Python\"\n",
    "f()\n",
    "print(\"outside function:\",s)\n"
   ]
  },
  {
   "cell_type": "code",
   "execution_count": 34,
   "metadata": {},
   "outputs": [
    {
     "name": "stdout",
     "output_type": "stream",
     "text": [
      "Python\n"
     ]
    }
   ],
   "source": [
    "#Python function within functions\n",
    "def func1():\n",
    "    s=\"Python\"\n",
    "    def func2():\n",
    "        print(s)\n",
    "    func2()\n",
    "func1()"
   ]
  },
  {
   "cell_type": "markdown",
   "metadata": {},
   "source": [
    "                    \"Lambda function\"\n",
    "Lambda function is also called as anonymous means that a function is without a name."
   ]
  },
  {
   "cell_type": "code",
   "execution_count": 36,
   "metadata": {},
   "outputs": [
    {
     "name": "stdout",
     "output_type": "stream",
     "text": [
      "8\n"
     ]
    }
   ],
   "source": [
    "lambda_cube=lambda x:x*x*x\n",
    "print(lambda_cube(2))"
   ]
  },
  {
   "cell_type": "code",
   "execution_count": 38,
   "metadata": {},
   "outputs": [
    {
     "name": "stdout",
     "output_type": "stream",
     "text": [
      "27\n",
      "27\n"
     ]
    }
   ],
   "source": [
    "#Difference in lambda() and def()\n",
    "def cube(y):\n",
    "    return y*y*y\n",
    "print(cube(3)) #Using def()\n",
    "\n",
    "#Using lambda()\n",
    "cube=lambda  y:y*y*y\n",
    "print(cube(3))\n",
    "    "
   ]
  },
  {
   "cell_type": "markdown",
   "metadata": {},
   "source": [
    "                \"Map() functions\""
   ]
  },
  {
   "cell_type": "code",
   "execution_count": 47,
   "metadata": {},
   "outputs": [
    {
     "name": "stdout",
     "output_type": "stream",
     "text": [
      "[12, 22, 32, 42, 52]\n",
      "<class 'list'>\n"
     ]
    }
   ],
   "source": [
    "#map() function returns a map object(which is an iterator) of the results \n",
    "#after  applying the given function to each item of a given iterable (list, tuple etc.)\n",
    "#syntax:map(function,sequence)\n",
    "a=[10,20,30,40,50]\n",
    "def inc(num):\n",
    "    return num+2\n",
    "result=list(map(inc,a)) \n",
    "print(result)\n",
    "print(type(result))\n"
   ]
  },
  {
   "cell_type": "code",
   "execution_count": 48,
   "metadata": {},
   "outputs": [
    {
     "name": "stdout",
     "output_type": "stream",
     "text": [
      "[12, 22, 32, 42, 52]\n",
      "<class 'list'>\n"
     ]
    }
   ],
   "source": [
    "#map() with lambda\n",
    "a=(10,20,30,40,50)\n",
    "result=list(map(lambda num:num+2,a))\n",
    "print(result)\n",
    "print(type(result))"
   ]
  },
  {
   "cell_type": "code",
   "execution_count": 50,
   "metadata": {},
   "outputs": [
    {
     "name": "stdout",
     "output_type": "stream",
     "text": [
      "[6, 4, 27, 9]\n"
     ]
    }
   ],
   "source": [
    "#Adding two list using map and lambda\n",
    "number1=[1,3,4,9]\n",
    "number2=[5,1,23,0]\n",
    "result=list(map(lambda x,y :x+y,number1,number2))\n",
    "print(result)"
   ]
  },
  {
   "cell_type": "code",
   "execution_count": 2,
   "metadata": {},
   "outputs": [
    {
     "name": "stdout",
     "output_type": "stream",
     "text": [
      "[100, 10, 8]\n"
     ]
    }
   ],
   "source": [
    "#filter() takes a function object and an iterable and creates a new list.\n",
    "number=[100,5,33,7,10,8]\n",
    "result=list(filter(lambda x: x%2 ==0,number))\n",
    "print(result)"
   ]
  }
 ],
 "metadata": {
  "interpreter": {
   "hash": "81586a0c7c59ed0c486f310ce0e22c547f5bec5bc9cd335b2d05525692011c96"
  },
  "kernelspec": {
   "display_name": "Python 3.9.7 64-bit ('base': conda)",
   "language": "python",
   "name": "python3"
  },
  "language_info": {
   "codemirror_mode": {
    "name": "ipython",
    "version": 3
   },
   "file_extension": ".py",
   "mimetype": "text/x-python",
   "name": "python",
   "nbconvert_exporter": "python",
   "pygments_lexer": "ipython3",
   "version": "3.9.7"
  },
  "orig_nbformat": 4
 },
 "nbformat": 4,
 "nbformat_minor": 2
}
