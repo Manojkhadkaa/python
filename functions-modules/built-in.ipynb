{
 "cells": [
  {
   "cell_type": "markdown",
   "metadata": {},
   "source": [
    "Built-in Modules"
   ]
  },
  {
   "cell_type": "code",
   "execution_count": 6,
   "metadata": {},
   "outputs": [
    {
     "name": "stdout",
     "output_type": "stream",
     "text": [
      "120\n",
      "3.0\n"
     ]
    }
   ],
   "source": [
    "# math module\n",
    "import math\n",
    "fact=math.factorial(5) #Finding the factorial of given number\n",
    "print(fact) \n",
    "sq=math.sqrt(9) \n",
    "print(sq)"
   ]
  },
  {
   "cell_type": "code",
   "execution_count": 7,
   "metadata": {},
   "outputs": [
    {
     "name": "stdout",
     "output_type": "stream",
     "text": [
      "['c:\\\\Users\\\\khadk\\\\OneDrive\\\\Desktop\\\\Web-Development-With_Python\\\\PythonCrashCourse\\\\functions-modules', 'C:\\\\Users\\\\khadk\\\\anaconda3\\\\python39.zip', 'C:\\\\Users\\\\khadk\\\\anaconda3\\\\DLLs', 'C:\\\\Users\\\\khadk\\\\anaconda3\\\\lib', 'C:\\\\Users\\\\khadk\\\\anaconda3', '', 'C:\\\\Users\\\\khadk\\\\anaconda3\\\\lib\\\\site-packages', 'C:\\\\Users\\\\khadk\\\\anaconda3\\\\lib\\\\site-packages\\\\locket-0.2.1-py3.9.egg', 'C:\\\\Users\\\\khadk\\\\anaconda3\\\\lib\\\\site-packages\\\\win32', 'C:\\\\Users\\\\khadk\\\\anaconda3\\\\lib\\\\site-packages\\\\win32\\\\lib', 'C:\\\\Users\\\\khadk\\\\anaconda3\\\\lib\\\\site-packages\\\\Pythonwin', 'C:\\\\Users\\\\khadk\\\\anaconda3\\\\lib\\\\site-packages\\\\IPython\\\\extensions', 'C:\\\\Users\\\\khadk\\\\.ipython']\n"
     ]
    }
   ],
   "source": [
    "#Directories List for Modules\n",
    "import sys\n",
    "print(sys.path)"
   ]
  },
  {
   "cell_type": "code",
   "execution_count": 9,
   "metadata": {},
   "outputs": [
    {
     "name": "stdout",
     "output_type": "stream",
     "text": [
      "120\n"
     ]
    }
   ],
   "source": [
    "#Importing and renaming modules\n",
    "import math as m\n",
    "value=m.factorial(5)\n",
    "print(value)"
   ]
  },
  {
   "cell_type": "code",
   "execution_count": 10,
   "metadata": {},
   "outputs": [
    {
     "data": {
      "text/plain": [
       "['BPF',\n",
       " 'LOG4',\n",
       " 'NV_MAGICCONST',\n",
       " 'RECIP_BPF',\n",
       " 'Random',\n",
       " 'SG_MAGICCONST',\n",
       " 'SystemRandom',\n",
       " 'TWOPI',\n",
       " '_Sequence',\n",
       " '_Set',\n",
       " '__all__',\n",
       " '__builtins__',\n",
       " '__cached__',\n",
       " '__doc__',\n",
       " '__file__',\n",
       " '__loader__',\n",
       " '__name__',\n",
       " '__package__',\n",
       " '__spec__',\n",
       " '_accumulate',\n",
       " '_acos',\n",
       " '_bisect',\n",
       " '_ceil',\n",
       " '_cos',\n",
       " '_e',\n",
       " '_exp',\n",
       " '_floor',\n",
       " '_inst',\n",
       " '_log',\n",
       " '_os',\n",
       " '_pi',\n",
       " '_random',\n",
       " '_repeat',\n",
       " '_sha512',\n",
       " '_sin',\n",
       " '_sqrt',\n",
       " '_test',\n",
       " '_test_generator',\n",
       " '_urandom',\n",
       " '_warn',\n",
       " 'betavariate',\n",
       " 'choice',\n",
       " 'choices',\n",
       " 'expovariate',\n",
       " 'gammavariate',\n",
       " 'gauss',\n",
       " 'getrandbits',\n",
       " 'getstate',\n",
       " 'lognormvariate',\n",
       " 'normalvariate',\n",
       " 'paretovariate',\n",
       " 'randbytes',\n",
       " 'randint',\n",
       " 'random',\n",
       " 'randrange',\n",
       " 'sample',\n",
       " 'seed',\n",
       " 'setstate',\n",
       " 'shuffle',\n",
       " 'triangular',\n",
       " 'uniform',\n",
       " 'vonmisesvariate',\n",
       " 'weibullvariate']"
      ]
     },
     "execution_count": 10,
     "metadata": {},
     "output_type": "execute_result"
    }
   ],
   "source": [
    "#The dir()function\n",
    "# It returns a sorted list of strings containing the names defined by a module\n",
    "import random\n",
    "dir(random)"
   ]
  },
  {
   "cell_type": "code",
   "execution_count": 16,
   "metadata": {},
   "outputs": [
    {
     "name": "stdout",
     "output_type": "stream",
     "text": [
      "Today's date is: 2022-01-10\n"
     ]
    }
   ],
   "source": [
    "#datetime module\n",
    "from datetime import *\n",
    "today=date.today()\n",
    "print(\"Today's date is:\",today)"
   ]
  },
  {
   "cell_type": "code",
   "execution_count": 19,
   "metadata": {},
   "outputs": [
    {
     "name": "stdout",
     "output_type": "stream",
     "text": [
      "The current directory is: c:\\Users\\khadk\\OneDrive\\Desktop\\Web-Development-With_Python\\PythonCrashCourse\\functions-modules\n",
      "None\n"
     ]
    }
   ],
   "source": [
    "#importing os module\n",
    "import os\n",
    "cwd=os.getcwd()\n",
    "print(\"The current directory is:\",cwd)\n",
    "new=os.mkdir(\"New\") #mkdir is used to create new directory"
   ]
  }
 ],
 "metadata": {
  "interpreter": {
   "hash": "81586a0c7c59ed0c486f310ce0e22c547f5bec5bc9cd335b2d05525692011c96"
  },
  "kernelspec": {
   "display_name": "Python 3.9.7 64-bit ('base': conda)",
   "language": "python",
   "name": "python3"
  },
  "language_info": {
   "codemirror_mode": {
    "name": "ipython",
    "version": 3
   },
   "file_extension": ".py",
   "mimetype": "text/x-python",
   "name": "python",
   "nbconvert_exporter": "python",
   "pygments_lexer": "ipython3",
   "version": "3.9.7"
  },
  "orig_nbformat": 4
 },
 "nbformat": 4,
 "nbformat_minor": 2
}
